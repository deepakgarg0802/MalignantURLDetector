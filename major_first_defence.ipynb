{
 "cells": [
  {
   "cell_type": "code",
   "execution_count": 2,
   "metadata": {
    "collapsed": false,
    "deletable": true,
    "editable": true
   },
   "outputs": [],
   "source": [
    "from urlparse import urlparse\n",
    "import re\n",
    "import urllib2\n",
    "import urllib\n",
    "from xml.dom import minidom\n",
    "import csv\n",
    "import pygeoip"
   ]
  },
  {
   "cell_type": "code",
   "execution_count": 3,
   "metadata": {
    "collapsed": true,
    "deletable": true,
    "editable": true
   },
   "outputs": [],
   "source": [
    "opener = urllib2.build_opener()\n",
    "opener.addheaders = [('User-agent', 'Mozilla/5.0')]\n",
    "\n",
    "nf=-1"
   ]
  },
  {
   "cell_type": "code",
   "execution_count": 4,
   "metadata": {
    "collapsed": true,
    "deletable": true,
    "editable": true
   },
   "outputs": [],
   "source": [
    "def Tokenise(url):\n",
    "\n",
    "        if url=='':\n",
    "            return [0,0,0]\n",
    "        token_word=re.split('\\W+',url)\n",
    "        print token_word\n",
    "        no_ele=sum_len=largest=0\n",
    "        for ele in token_word:\n",
    "                l=len(ele)\n",
    "                sum_len+=l\n",
    "                if l>0:                                        ## for empty element exclusion in average length\n",
    "                        no_ele+=1\n",
    "                if largest<l:\n",
    "                        largest=l\n",
    "        try:\n",
    "            return [float(sum_len)/no_ele,no_ele,largest]\n",
    "        except:\n",
    "            return [0,no_ele,largest]"
   ]
  },
  {
   "cell_type": "code",
   "execution_count": 5,
   "metadata": {
    "collapsed": true,
    "deletable": true,
    "editable": true
   },
   "outputs": [],
   "source": [
    "def find_ele_with_attribute(dom,ele,attribute):\n",
    "    for subelement in dom.getElementsByTagName(ele):\n",
    "        if subelement.hasAttribute(attribute):\n",
    "            return subelement.attributes[attribute].value\n",
    "    return nf"
   ]
  },
  {
   "cell_type": "code",
   "execution_count": 6,
   "metadata": {
    "collapsed": true,
    "deletable": true,
    "editable": true
   },
   "outputs": [],
   "source": [
    "def sitepopularity(host):\n",
    "\n",
    "        xmlpath='http://data.alexa.com/data?cli=10&dat=snbamz&url='+host\n",
    "        #print xmlpath\n",
    "        try:\n",
    "            xml= urllib2.urlopen(xmlpath)\n",
    "            dom =minidom.parse(xml)\n",
    "            rank_host=find_ele_with_attribute(dom,'REACH','RANK')\n",
    "            #country=find_ele_with_attribute(dom,'REACH','RANK')\n",
    "            rank_country=find_ele_with_attribute(dom,'COUNTRY','RANK')\n",
    "            return [rank_host,rank_country]\n",
    "\n",
    "        except:\n",
    "            return [nf,nf]"
   ]
  },
  {
   "cell_type": "code",
   "execution_count": 7,
   "metadata": {
    "collapsed": true,
    "deletable": true,
    "editable": true
   },
   "outputs": [],
   "source": [
    "def Security_sensitive(tokens_words):\n",
    "\n",
    "    sec_sen_words=['confirm', 'account', 'banking', 'secure', 'ebayisapi', 'webscr', 'login', 'signin']\n",
    "    cnt=0\n",
    "    for ele in sec_sen_words:\n",
    "        if(ele in tokens_words):\n",
    "            cnt+=1;\n",
    "\n",
    "    return cnt"
   ]
  },
  {
   "cell_type": "code",
   "execution_count": 8,
   "metadata": {
    "collapsed": true,
    "deletable": true,
    "editable": true
   },
   "outputs": [],
   "source": [
    "def exe_in_url(url):\n",
    "    if url.find('.exe')!=-1:\n",
    "        return 1\n",
    "    return 0"
   ]
  },
  {
   "cell_type": "code",
   "execution_count": 9,
   "metadata": {
    "collapsed": true,
    "deletable": true,
    "editable": true
   },
   "outputs": [],
   "source": [
    "def Check_IPaddress(tokens_words):\n",
    "\n",
    "    cnt=0;\n",
    "    for ele in tokens_words:\n",
    "        if unicode(ele).isnumeric():\n",
    "            cnt+=1\n",
    "        else:\n",
    "            if cnt>=4 :\n",
    "                return 1\n",
    "            else:\n",
    "                cnt=0;\n",
    "    if cnt>=4:\n",
    "        return 1\n",
    "    return 0\n"
   ]
  },
  {
   "cell_type": "markdown",
   "metadata": {
    "deletable": true,
    "editable": true
   },
   "source": [
    "# This function is not used currently"
   ]
  },
  {
   "cell_type": "code",
   "execution_count": 10,
   "metadata": {
    "collapsed": true,
    "deletable": true,
    "editable": true
   },
   "outputs": [],
   "source": [
    "def getASN(host):\n",
    "    try:\n",
    "        g = pygeoip.GeoIP('GeoIPASNum.dat')\n",
    "        asn=int(g.org_by_name(host).split()[0][2:])\n",
    "        return asn\n",
    "    except:\n",
    "        return  nf"
   ]
  },
  {
   "cell_type": "markdown",
   "metadata": {
    "deletable": true,
    "editable": true
   },
   "source": [
    "# This function is not used currently"
   ]
  },
  {
   "cell_type": "code",
   "execution_count": 11,
   "metadata": {
    "collapsed": true,
    "deletable": true,
    "editable": true
   },
   "outputs": [],
   "source": [
    "def web_content_features(url):\n",
    "    wfeatures={}\n",
    "    total_cnt=0\n",
    "    try:        \n",
    "        source_code = str(opener.open(url))\n",
    "        #print source_code[:500]\n",
    "\n",
    "        wfeatures['src_html_cnt']=source_code.count('<html')\n",
    "        wfeatures['src_hlink_cnt']=source_code.count('<a href=')\n",
    "        wfeatures['src_iframe_cnt']=source_code.count('<iframe')\n",
    "        #suspicioussrc_ javascript functions count\n",
    "\n",
    "        wfeatures['src_eval_cnt']=source_code.count('eval(')\n",
    "        wfeatures['src_escape_cnt']=source_code.count('escape(')\n",
    "        wfeatures['src_link_cnt']=source_code.count('link(')\n",
    "        wfeatures['src_underescape_cnt']=source_code.count('underescape(')\n",
    "        wfeatures['src_exec_cnt']=source_code.count('exec(')\n",
    "        wfeatures['src_search_cnt']=source_code.count('search(')\n",
    "        \n",
    "        for key in wfeatures:\n",
    "            if(key!='src_html_cnt' and key!='src_hlink_cnt' and key!='src_iframe_cnt'):\n",
    "                total_cnt+=wfeatures[key]\n",
    "        wfeatures['src_total_jfun_cnt']=total_cnt\n",
    "    \n",
    "    except Exception, e:\n",
    "        print \"Error\"+str(e)+\" in downloading page \"+url \n",
    "        default_val=nf\n",
    "        \n",
    "        wfeatures['src_html_cnt']=default_val\n",
    "        wfeatures['src_hlink_cnt']=default_val\n",
    "        wfeatures['src_iframe_cnt']=default_val\n",
    "        wfeatures['src_eval_cnt']=default_val\n",
    "        wfeatures['src_escape_cnt']=default_val\n",
    "        wfeatures['src_link_cnt']=default_val\n",
    "        wfeatures['src_underescape_cnt']=default_val\n",
    "        wfeatures['src_exec_cnt']=default_val\n",
    "        wfeatures['src_search_cnt']=default_val\n",
    "        wfeatures['src_total_jfun_cnt']=default_val    \n",
    "    \n",
    "    return wfeatures"
   ]
  },
  {
   "cell_type": "code",
   "execution_count": 12,
   "metadata": {
    "collapsed": true,
    "deletable": true,
    "editable": true
   },
   "outputs": [],
   "source": [
    "def safebrowsing(url):\n",
    "    api_key = \"ABQIAAAA8C6Tfr7tocAe04vXo5uYqRTEYoRzLFR0-nQ3fRl5qJUqcubbrw\"\n",
    "    name = \"URL_check\"\n",
    "    ver = \"1.0\"\n",
    "\n",
    "    req = {}\n",
    "    req[\"client\"] = name\n",
    "    req[\"apikey\"] = api_key\n",
    "    req[\"appver\"] = ver\n",
    "    req[\"pver\"] = \"3.0\"\n",
    "    req[\"url\"] = url #change to check type of url\n",
    "\n",
    "    try:\n",
    "        params = urllib.urlencode(req)\n",
    "        req_url = \"https://sb-ssl.google.com/safebrowsing/api/lookup?\"+params\n",
    "        res = urllib2.urlopen(req_url)\n",
    "        # print res.code\n",
    "        # print res.read()\n",
    "        if res.code==204:\n",
    "            # print \"safe\"\n",
    "            return 0\n",
    "        elif res.code==200:\n",
    "            # print \"The queried URL is either phishing, malware or both, see the response body for the specific type.\"\n",
    "            return 1\n",
    "        elif res.code==204:\n",
    "            print \"The requested URL is legitimate, no response body returned.\"\n",
    "        elif res.code==400:\n",
    "            print \"Bad Request The HTTP request was not correctly formed.\"\n",
    "        elif res.code==401:\n",
    "            print \"Not Authorized The apikey is not authorized\"\n",
    "        else:\n",
    "            print \"Service Unavailable The server cannot handle the request. Besides the normal server failures, it could also indicate that the client has been throttled by sending too many requests\"\n",
    "    except:\n",
    "        return -1"
   ]
  },
  {
   "cell_type": "code",
   "execution_count": 13,
   "metadata": {
    "collapsed": true,
    "deletable": true,
    "editable": true
   },
   "outputs": [],
   "source": [
    "Feature={}\n",
    "url_input=\"http://stackoverflow.com/questions/34864672/in-jupyter-notebook-how-do-i-arrange-subroutines-in-order-to-write-a-project-ef\""
   ]
  },
  {
   "cell_type": "code",
   "execution_count": 14,
   "metadata": {
    "collapsed": false,
    "deletable": true,
    "editable": true
   },
   "outputs": [
    {
     "data": {
      "text/plain": [
       "'http://stackoverflow.com/questions/34864672/in-jupyter-notebook-how-do-i-arrange-subroutines-in-order-to-write-a-project-ef'"
      ]
     },
     "execution_count": 14,
     "metadata": {},
     "output_type": "execute_result"
    }
   ],
   "source": [
    "url_input"
   ]
  },
  {
   "cell_type": "code",
   "execution_count": 15,
   "metadata": {
    "collapsed": false,
    "deletable": true,
    "editable": true
   },
   "outputs": [
    {
     "name": "stdout",
     "output_type": "stream",
     "text": [
      "['http', 'stackoverflow', 'com', 'questions', '34864672', 'in', 'jupyter', 'notebook', 'how', 'do', 'i', 'arrange', 'subroutines', 'in', 'order', 'to', 'write', 'a', 'project', 'ef']\n",
      "['stackoverflow', 'com']\n",
      "['', 'questions', '34864672', 'in', 'jupyter', 'notebook', 'how', 'do', 'i', 'arrange', 'subroutines', 'in', 'order', 'to', 'write', 'a', 'project', 'ef']\n"
     ]
    }
   ],
   "source": [
    "tokens_words=re.split('\\W+',url_input)       #Extract bag of words stings delimited by (.,/,?,,=,-,_)\n",
    "#print tokens_words,len(tokens_words)\n",
    "\n",
    "#token_delimit1=re.split('[./?=-_]',url_input)\n",
    "#print token_delimit1,len(token_delimit1)\n",
    "\n",
    "obj=urlparse(url_input)\n",
    "host=obj.netloc\n",
    "path=obj.path\n",
    "\n",
    "Feature['URL']=url_input\n",
    "\n",
    "Feature['rank_host'],Feature['rank_country'] =sitepopularity(host)\n",
    "\n",
    "Feature['host']=obj.netloc\n",
    "Feature['path']=obj.path\n",
    "\n",
    "Feature['Length_of_url']=len(url_input)\n",
    "Feature['Length_of_host']=len(host)\n",
    "Feature['No_of_dots']=url_input.count('.')\n",
    "\n",
    "Feature['avg_token_length'],Feature['token_count'],Feature['largest_token'] = Tokenise(url_input)\n",
    "Feature['avg_domain_token_length'],Feature['domain_token_count'],Feature['largest_domain'] = Tokenise(host)\n",
    "Feature['avg_path_token'],Feature['path_token_count'],Feature['largest_path'] = Tokenise(path)\n",
    "\n",
    "Feature['sec_sen_word_cnt'] = Security_sensitive(tokens_words)\n",
    "Feature['IPaddress_presence'] = Check_IPaddress(tokens_words)\n",
    "\n",
    "# print host\n",
    "# print getASN(host)\n",
    "# Feature['exe_in_url']=exe_in_url(url_input)\n",
    "#Feature['ASNno']=getASN(host)\n",
    "Feature['safebrowsing']=safebrowsing(url_input)"
   ]
  },
  {
   "cell_type": "code",
   "execution_count": 16,
   "metadata": {
    "collapsed": false,
    "deletable": true,
    "editable": true
   },
   "outputs": [
    {
     "data": {
      "text/plain": [
       "{'IPaddress_presence': 0,\n",
       " 'Length_of_host': 17,\n",
       " 'Length_of_url': 123,\n",
       " 'No_of_dots': 1,\n",
       " 'URL': 'http://stackoverflow.com/questions/34864672/in-jupyter-notebook-how-do-i-arrange-subroutines-in-order-to-write-a-project-ef',\n",
       " 'avg_domain_token_length': 8.0,\n",
       " 'avg_path_token': 4.823529411764706,\n",
       " 'avg_token_length': 5.1,\n",
       " 'domain_token_count': 2,\n",
       " 'host': 'stackoverflow.com',\n",
       " 'largest_domain': 13,\n",
       " 'largest_path': 11,\n",
       " 'largest_token': 13,\n",
       " 'path': '/questions/34864672/in-jupyter-notebook-how-do-i-arrange-subroutines-in-order-to-write-a-project-ef',\n",
       " 'path_token_count': 17,\n",
       " 'rank_country': u'49',\n",
       " 'rank_host': u'52',\n",
       " 'safebrowsing': 0,\n",
       " 'sec_sen_word_cnt': 0,\n",
       " 'token_count': 20}"
      ]
     },
     "execution_count": 16,
     "metadata": {},
     "output_type": "execute_result"
    }
   ],
   "source": [
    "Feature"
   ]
  },
  {
   "cell_type": "code",
   "execution_count": 16,
   "metadata": {
    "collapsed": false,
    "deletable": true,
    "editable": true
   },
   "outputs": [
    {
     "data": {
      "text/plain": [
       "[u'46', u'55']"
      ]
     },
     "execution_count": 16,
     "metadata": {},
     "output_type": "execute_result"
    }
   ],
   "source": [
    "sitepopularity(host)"
   ]
  },
  {
   "cell_type": "code",
   "execution_count": 1,
   "metadata": {
    "collapsed": true,
    "deletable": true,
    "editable": true
   },
   "outputs": [],
   "source": [
    "import matplotlib"
   ]
  },
  {
   "cell_type": "code",
   "execution_count": 2,
   "metadata": {
    "collapsed": true,
    "deletable": true,
    "editable": true
   },
   "outputs": [],
   "source": [
    "import pylab as pl"
   ]
  },
  {
   "cell_type": "code",
   "execution_count": 3,
   "metadata": {
    "collapsed": true,
    "deletable": true,
    "editable": true
   },
   "outputs": [],
   "source": [
    "import pandas"
   ]
  },
  {
   "cell_type": "code",
   "execution_count": 4,
   "metadata": {
    "collapsed": false,
    "deletable": true,
    "editable": true
   },
   "outputs": [],
   "source": [
    "my_data= pandas.read_csv(\"./url_features.csv\")"
   ]
  },
  {
   "cell_type": "code",
   "execution_count": 9,
   "metadata": {
    "collapsed": false
   },
   "outputs": [],
   "source": [
    "data = pandas.DataFrame.from_csv(\"./url_features.csv\")"
   ]
  },
  {
   "cell_type": "code",
   "execution_count": 28,
   "metadata": {
    "collapsed": false
   },
   "outputs": [],
   "source": [
    "#data[data.malicious==2]"
   ]
  },
  {
   "cell_type": "code",
   "execution_count": 33,
   "metadata": {
    "collapsed": true
   },
   "outputs": [],
   "source": [
    "benign= len(data[data.malicious==0])"
   ]
  },
  {
   "cell_type": "code",
   "execution_count": 34,
   "metadata": {
    "collapsed": true
   },
   "outputs": [],
   "source": [
    "spam= len(data[data.malicious==1])"
   ]
  },
  {
   "cell_type": "code",
   "execution_count": 35,
   "metadata": {
    "collapsed": true
   },
   "outputs": [],
   "source": [
    "malware= len(data[data.malicious==2])"
   ]
  },
  {
   "cell_type": "code",
   "execution_count": 36,
   "metadata": {
    "collapsed": false
   },
   "outputs": [
    {
     "name": "stdout",
     "output_type": "stream",
     "text": [
      "49 253 528\n"
     ]
    }
   ],
   "source": [
    "print spam,malware,benign"
   ]
  },
  {
   "cell_type": "code",
   "execution_count": 37,
   "metadata": {
    "collapsed": false
   },
   "outputs": [
    {
     "data": {
      "image/png": "[encoded data removed]",
      "text/plain": [
       "<matplotlib.figure.Figure at 0x7f1ee4e7cf90>"
      ]
     },
     "metadata": {},
     "output_type": "display_data"
    }
   ],
   "source": [
    "import matplotlib.pyplot as plt; plt.rcdefaults()\n",
    "import numpy as np\n",
    "import matplotlib.pyplot as plt\n",
    " \n",
    "objects = ('Safe','Malware','Spam')\n",
    "y_pos = np.arange(len(objects))\n",
    "performance = [benign,malware,spam]\n",
    " \n",
    "plt.bar(y_pos, performance, align='center', alpha=0.5)\n",
    "plt.xticks(y_pos, objects)\n",
    "plt.ylabel('URLs accessed')\n",
    "plt.title('Sites accessed on the machine')\n",
    " \n",
    "plt.show()"
   ]
  },
  {
   "cell_type": "code",
   "execution_count": null,
   "metadata": {
    "collapsed": true
   },
   "outputs": [],
   "source": []
  }
 ],
 "metadata": {
  "kernelspec": {
   "display_name": "Python 2",
   "language": "python",
   "name": "python2"
  },
  "language_info": {
   "codemirror_mode": {
    "name": "ipython",
    "version": 2
   },
   "file_extension": ".py",
   "mimetype": "text/x-python",
   "name": "python",
   "nbconvert_exporter": "python",
   "pygments_lexer": "ipython2",
   "version": "2.7.6"
  }
 },
 "nbformat": 4,
 "nbformat_minor": 2
}
